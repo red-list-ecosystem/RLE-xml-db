{
 "cells": [
  {
   "cell_type": "code",
   "execution_count": 1,
   "id": "6a5217c5-1326-4efa-bc0a-4af67ed7a28f",
   "metadata": {},
   "outputs": [],
   "source": [
    "import os\n",
    "import sys, getopt\n",
    "from pathlib import Path\n",
    "import xml.etree.cElementTree as ET\n",
    "import pandas as pd"
   ]
  },
  {
   "cell_type": "code",
   "execution_count": 2,
   "id": "ccf0bebc-287c-4a02-b6b8-5b1ef773268c",
   "metadata": {
    "tags": []
   },
   "outputs": [
    {
     "data": {
      "text/plain": [
       "['kingsford_murraydarlingbasin_2013_1.xml',\n",
       " 'keith_caribbeancoralreefs_2013_1.xml',\n",
       " 'bland_mesoamericareef_2017_1.xml',\n",
       " 'williams_alpinesnowpatch_2015_1.xml',\n",
       " 'riecken_raisedbogs_2013_1.xml',\n",
       " 'ghoraba_burullussaltmarshes_2021_1.xml',\n",
       " 'clark_ivertebratecomm_2015_1.xml',\n",
       " 'wardle_georginagidgee_2015_1.xml',\n",
       " 'english_swa_2015_1.xml',\n",
       " 'bland_marineecosystem_2018_1.xml',\n",
       " 'oliveira_tepuishrublands_2013_1.xml',\n",
       " 'macnally_riverredgum_2013_1.xml',\n",
       " 'essl_germantamarisk_2013_1.xml',\n",
       " 'keith_coastalsandstone_2013_1.xml',\n",
       " 'murray_tidalflats_2015_1.xml',\n",
       " 'tozer_cumberlandplain_2015_1.xml',\n",
       " 'sievers_seagrasses_moretonbay_2020_1.xml',\n",
       " 'keith_gonakierforest_2013_1.xml',\n",
       " 'metcalfe_wettropics_2015_1.xml',\n",
       " 'faberlnagendoen_greatlakesalvar_2013_1.xml',\n",
       " 'moat_tapiaforest_2013_1.xml',\n",
       " 'marshall_fringemangroves_2018_1.xml',\n",
       " 'burns_mountainashforest_2015_1.xml',\n",
       " 'sievers_saltmarshes_moretonbay_2020_1.xml',\n",
       " 'keith_giantkelp_2013_1.xml',\n",
       " 'keith_capeflatssandfynbos_2013_1.xml',\n",
       " 'sievers_sundarbansmangrove_2020_1.xml',\n",
       " 'bonifacio_krswetland_2013_1.xml',\n",
       " 'barrett_mountainsummit_2015_1.xml',\n",
       " 'poulin_europeanreedbeds_2015_1_v2.xml',\n",
       " 'pisanu_lakeeyre_2015_1.xml',\n",
       " 'ghoraba_lakeburullus_2019_1.xml',\n",
       " 'sievers_mangroves_moretonbay_2020_1.xml',\n",
       " 'bonifacio_seagrasscommunity_2013_1.xml',\n",
       " 'keith_coolibahblackbox_2013_1.xml',\n",
       " 'lester_cooronglagoons_2013_1.xml',\n",
       " 'ghoraba_burullussandplain_2021_1.xml',\n",
       " 'mahoney_estuarineecosystem_2017_1.xml',\n",
       " 'holdaway_granitegravelfields_2013_1.xml',\n",
       " 'keith_aralsea_2013_1_v2.xml',\n",
       " 'gillies_oysterreefaus_2020_1.xml',\n",
       " 'benson_vinethicket_2013_1.xml',\n",
       " 'auld_gnarledmossycloudforest_2015_1.xml']"
      ]
     },
     "execution_count": 2,
     "metadata": {},
     "output_type": "execute_result"
    }
   ],
   "source": [
    "xmldb = Path(os.path.expanduser('~')) / 'proyectos' / 'IUCN-RLE' / 'RLE_DB' \n",
    "xmldir = xmldb / '3.Published' / 'Strategic'\n",
    "os.listdir(xmldir)"
   ]
  },
  {
   "cell_type": "code",
   "execution_count": 12,
   "id": "f64ff47f-fe54-4351-ac63-d3b7d9f622e3",
   "metadata": {},
   "outputs": [],
   "source": [
    "xmlfile='ghoraba_burullussandplain_2021_1.xml'"
   ]
  },
  {
   "cell_type": "code",
   "execution_count": 13,
   "id": "aedacdd2-93b8-479b-94b2-b8a8a33386c1",
   "metadata": {},
   "outputs": [
    {
     "name": "stdout",
     "output_type": "stream",
     "text": [
      "Case-Study-Names {}\n",
      "Assessment-Type {}\n",
      "Scope {}\n",
      "Assessment-Information {'date': '2021-10-11', 'updated-by': 'ML', 'status': 'in revision', 'load': 'true'}\n",
      "Assessment-Target {'date': '2021-10-11', 'updated-by': 'ML', 'status': 'draft'}\n",
      "Ecosystem-Risk-Assessment {'date': '2021-10-11', 'updated-by': 'ML', 'status': 'in revision'}\n",
      "Content-Curations {}\n"
     ]
    }
   ],
   "source": [
    "tree = ET.parse(xmldir / xmlfile)\n",
    "root = tree.getroot()\n",
    "for CS in root:\n",
    "    for elem in CS:\n",
    "        print(elem.tag, elem.attrib)"
   ]
  },
  {
   "cell_type": "code",
   "execution_count": 14,
   "id": "7799b2d7-4302-4aa8-a388-aebd7e2b08a0",
   "metadata": {},
   "outputs": [
    {
     "name": "stdout",
     "output_type": "stream",
     "text": [
      "Scope-descriptions {}\n",
      "Scope-classification {'id': 'IUCN Scope', 'version': '1.0', 'selected': 'no', 'assigned-by': 'RLE team'}\n"
     ]
    }
   ],
   "source": [
    "for elem in CS.find('Scope'):\n",
    "    print(elem.tag, elem.attrib)"
   ]
  },
  {
   "cell_type": "code",
   "execution_count": 15,
   "id": "5972df02-20e4-48e9-b4e4-575e1cbbd347",
   "metadata": {},
   "outputs": [
    {
     "name": "stdout",
     "output_type": "stream",
     "text": [
      "EGY_Sand_plain_Burullus_1\n",
      "AT-id {}\n",
      "AT-descriptions {}\n",
      "AT-names {}\n",
      "Characteristic-biota {}\n",
      "Abiotic-environment {}\n",
      "Biotic-processes {}\n",
      "Ecosystem-services {}\n",
      "Threats {}\n",
      "Conservation-actions {}\n",
      "Research-needs {}\n",
      "Conceptual-ecosystem-model {}\n",
      "Classifications {}\n",
      "Distribution {}\n",
      "Collapse-definition {}\n"
     ]
    }
   ],
   "source": [
    "for AT in CS.findall('Assessment-Target'):\n",
    "    print(AT.find('AT-id').text)\n",
    "    for elem in AT:\n",
    "        print(elem.tag, elem.attrib)"
   ]
  },
  {
   "cell_type": "code",
   "execution_count": 16,
   "id": "533c5201-b773-4da0-8fef-d9a0b5ed083b",
   "metadata": {},
   "outputs": [
    {
     "name": "stdout",
     "output_type": "stream",
     "text": [
      "Classification-system {'id': 'IUCN Global Typology', 'version': 'draft', 'selected': 'no', 'assigned-by': 'RLE Team'}\n",
      "Marine/Terrestrial\n",
      "MT2. Supralittoral coastal\n"
     ]
    }
   ],
   "source": [
    "for elem in AT.findall(\"Classifications/Classification-system[@id='IUCN Global Typology']\"):\n",
    "    print(elem.tag, elem.attrib)\n",
    "    for subelem in elem:\n",
    "        print(subelem.text)"
   ]
  },
  {
   "cell_type": "code",
   "execution_count": null,
   "id": "64167be2-de81-43e4-8a28-4447e012db9b",
   "metadata": {},
   "outputs": [],
   "source": []
  }
 ],
 "metadata": {
  "kernelspec": {
   "display_name": "Python 3 (ipykernel)",
   "language": "python",
   "name": "python3"
  },
  "language_info": {
   "codemirror_mode": {
    "name": "ipython",
    "version": 3
   },
   "file_extension": ".py",
   "mimetype": "text/x-python",
   "name": "python",
   "nbconvert_exporter": "python",
   "pygments_lexer": "ipython3",
   "version": "3.10.2"
  }
 },
 "nbformat": 4,
 "nbformat_minor": 5
}
