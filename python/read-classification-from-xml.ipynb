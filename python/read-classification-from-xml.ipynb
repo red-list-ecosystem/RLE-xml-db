{
 "cells": [
  {
   "cell_type": "markdown",
   "id": "a32adb56-e9ba-444d-baa7-473292a44c9d",
   "metadata": {},
   "source": [
    "# Set up\n",
    "\n",
    "Load libraries"
   ]
  },
  {
   "cell_type": "code",
   "execution_count": 1,
   "id": "bc5fecf1-88f1-48c0-9cb7-d3c071e5aa1c",
   "metadata": {},
   "outputs": [],
   "source": [
    "import os\n",
    "import sys, getopt\n",
    "from pathlib import Path\n",
    "import xml.etree.cElementTree as ET\n",
    "import pandas as pd"
   ]
  },
  {
   "cell_type": "markdown",
   "id": "3d73ec2f-6b3a-4ebb-be70-707d14cf0a1e",
   "metadata": {},
   "source": [
    "Libraries for database access"
   ]
  },
  {
   "cell_type": "code",
   "execution_count": 2,
   "id": "27633fb1-5f8e-46fe-b810-0635bdddc92e",
   "metadata": {},
   "outputs": [],
   "source": [
    "from configparser import ConfigParser\n",
    "import psycopg2\n",
    "from psycopg2.extras import DictCursor\n",
    "from psycopg2.extensions import AsIs"
   ]
  },
  {
   "cell_type": "markdown",
   "id": "b76b91f0-daf6-40e2-bc6e-23145e44c60b",
   "metadata": {},
   "source": [
    "## Database access"
   ]
  },
  {
   "cell_type": "code",
   "execution_count": 3,
   "id": "2e04435b-7415-4676-86c2-a7dd2cf4879b",
   "metadata": {},
   "outputs": [],
   "source": [
    "filename = Path(os.path.expanduser('~')) / \".database.ini\"\n",
    "section = 'iucnecoadm'\n",
    "\n",
    "parser = ConfigParser()\n",
    "parser.read(filename)\n",
    "db = {}\n",
    "if parser.has_section(section):\n",
    "    params = parser.items(section)\n",
    "    for param in params:\n",
    "        db[param[0]] = param[1]\n",
    "else:\n",
    "    raise Exception('Section {0} not found in the {1} file'.format(section, filename))"
   ]
  },
  {
   "cell_type": "code",
   "execution_count": 4,
   "id": "8aba6d9f-da79-4cf1-a131-01dbafabe456",
   "metadata": {},
   "outputs": [],
   "source": [
    "conn = psycopg2.connect(**db)\n",
    "cur = conn.cursor(cursor_factory=DictCursor)"
   ]
  },
  {
   "cell_type": "markdown",
   "id": "f2d28c9e-c05a-4def-8676-1d325249f43f",
   "metadata": {},
   "source": [
    "## Database query"
   ]
  },
  {
   "cell_type": "code",
   "execution_count": 5,
   "id": "e2a027f2-faed-4165-92c8-52204ab05aba",
   "metadata": {},
   "outputs": [],
   "source": [
    "qry = \"\"\"\n",
    "SELECT eco_id,eco_name,eco_name_orig,external_code,efg_code,level,membership,assigned_by \n",
    "FROM rle.assessment_get_xwalk\n",
    "LEFT JOIN rle.assessment_units USING(eco_id)\n",
    "\"\"\"\n",
    "cur.execute(qry)\n",
    "xwalks = cur.fetchall()\n",
    "df_from_sql=pd.DataFrame(xwalks,\n",
    "                columns=['eco_id','eco_name','eco_name_orig','external_code','efg_code','level','membership','assigned_by'])"
   ]
  },
  {
   "cell_type": "markdown",
   "id": "7336acfa-6981-42dc-9bd1-827a757f15d1",
   "metadata": {},
   "source": [
    "Close database connection\n"
   ]
  },
  {
   "cell_type": "code",
   "execution_count": 6,
   "id": "e1c50bae-c81c-417e-a050-7cfa3cc1c29e",
   "metadata": {},
   "outputs": [
    {
     "name": "stdout",
     "output_type": "stream",
     "text": [
      "Database connection closed.\n"
     ]
    }
   ],
   "source": [
    "cur.close()\n",
    "        \n",
    "if conn is not None:\n",
    "    conn.close()\n",
    "    print('Database connection closed.')"
   ]
  },
  {
   "cell_type": "markdown",
   "id": "d94cc824-645e-45de-9722-bfea6fabda1b",
   "metadata": {},
   "source": [
    "# Read XML database"
   ]
  },
  {
   "cell_type": "markdown",
   "id": "6c33b494-12a5-4364-9591-00dc2ef23ee6",
   "metadata": {},
   "source": [
    "Define function to read selected nodes from XML"
   ]
  },
  {
   "cell_type": "code",
   "execution_count": 7,
   "id": "408a1712-b3f3-464c-96fe-ebb2cb632bd0",
   "metadata": {},
   "outputs": [],
   "source": [
    "def extract_IUCN_GET_classification(file):\n",
    "    records=list()\n",
    "    tree = ET.parse(file)\n",
    "    root = tree.getroot()\n",
    "    for CS in root:\n",
    "        record={'id':CS.attrib['id'],'name':CS.attrib['name']}\n",
    "        for AT in CS.findall('Assessment-Target'):\n",
    "            record['AT-id']=AT.find('AT-id').text\n",
    "\n",
    "            for elem in AT.findall(\"Classifications/Classification-system[@id='IUCN Global Typology']\"):\n",
    "                record['version']=elem.attrib['version']\n",
    "                record['assigned-by']=elem.attrib['assigned-by']\n",
    "                for subelem in elem:\n",
    "                    record['level' + subelem.attrib['level']]=subelem.text\n",
    "            records.append(record)\n",
    "    return(records)"
   ]
  },
  {
   "cell_type": "markdown",
   "id": "b13cff1e-06ae-4ed4-9140-b24eb026ae46",
   "metadata": {},
   "source": [
    "Path to the XML collection"
   ]
  },
  {
   "cell_type": "code",
   "execution_count": 8,
   "id": "4b9ffc00-9674-42e4-a7dd-5fcdda60a2a4",
   "metadata": {},
   "outputs": [],
   "source": [
    "xmldb = Path(os.path.expanduser('~')) / 'proyectos' / 'IUCN-RLE' / 'RLE_DB' "
   ]
  },
  {
   "cell_type": "markdown",
   "id": "3c375fb6-eb25-49d2-ad91-0a2d227e4730",
   "metadata": {},
   "source": [
    "Iterate through folders to read all xml files:"
   ]
  },
  {
   "cell_type": "code",
   "execution_count": 9,
   "id": "1ee23691-ccd7-42d9-a81f-5e959b2c3057",
   "metadata": {},
   "outputs": [],
   "source": [
    "records=list()\n",
    "for pub_status in ['3.Published','2.Not published' ]:\n",
    "    for asm_type in ['Strategic','Systematic']:\n",
    "        xmldir = xmldb / pub_status / asm_type\n",
    "        for xmlfile in os.listdir(xmldir):\n",
    "            new_records=extract_IUCN_GET_classification(xmldir / xmlfile)\n",
    "            records.extend(new_records)\n",
    "            "
   ]
  },
  {
   "cell_type": "code",
   "execution_count": 10,
   "id": "5f25ecb5-889d-44f2-9176-425059ac103d",
   "metadata": {},
   "outputs": [
    {
     "name": "stdout",
     "output_type": "stream",
     "text": [
      "Pliscoff_RLE_Chile_2015.xml\n"
     ]
    },
    {
     "data": {
      "text/plain": [
       "638"
      ]
     },
     "execution_count": 10,
     "metadata": {},
     "output_type": "execute_result"
    }
   ],
   "source": [
    "print(xmlfile)\n",
    "len(records)"
   ]
  },
  {
   "cell_type": "code",
   "execution_count": 11,
   "id": "44317ab0-1173-46f9-96a9-5a715c53ea3d",
   "metadata": {},
   "outputs": [
    {
     "data": {
      "text/plain": [
       "{'id': 'Oliveira_TepuiShrublands_2013_1',\n",
       " 'name': 'Tepui shrublands, Southern Venezuela, LC',\n",
       " 'AT-id': 'VEN_Tepui_Shrublands_1',\n",
       " 'version': 'draft',\n",
       " 'assigned-by': 'RLE team',\n",
       " 'level1': 'Terrestrial',\n",
       " 'level2': 'T3. Shrublands and shrubby woodlands',\n",
       " 'level3': 'T3.1 Seasonally dry tropical shrublands'}"
      ]
     },
     "execution_count": 11,
     "metadata": {},
     "output_type": "execute_result"
    }
   ],
   "source": [
    "records[10]"
   ]
  },
  {
   "cell_type": "code",
   "execution_count": 12,
   "id": "0de015d6-af3f-4378-b41e-ad101d7db75f",
   "metadata": {},
   "outputs": [
    {
     "data": {
      "text/html": [
       "<div>\n",
       "<style scoped>\n",
       "    .dataframe tbody tr th:only-of-type {\n",
       "        vertical-align: middle;\n",
       "    }\n",
       "\n",
       "    .dataframe tbody tr th {\n",
       "        vertical-align: top;\n",
       "    }\n",
       "\n",
       "    .dataframe thead th {\n",
       "        text-align: right;\n",
       "    }\n",
       "</style>\n",
       "<table border=\"1\" class=\"dataframe\">\n",
       "  <thead>\n",
       "    <tr style=\"text-align: right;\">\n",
       "      <th></th>\n",
       "      <th>id</th>\n",
       "      <th>name</th>\n",
       "      <th>AT-id</th>\n",
       "      <th>version</th>\n",
       "      <th>assigned-by</th>\n",
       "      <th>level1</th>\n",
       "      <th>level2</th>\n",
       "      <th>level3</th>\n",
       "    </tr>\n",
       "  </thead>\n",
       "  <tbody>\n",
       "    <tr>\n",
       "      <th>633</th>\n",
       "      <td>MAC_RLE_Chile_2015_123</td>\n",
       "      <td>123. Temperate Mediterranean steppe of Festuca...</td>\n",
       "      <td>CHL_MAC_RLE_Chile_2015_123</td>\n",
       "      <td>NaN</td>\n",
       "      <td>NaN</td>\n",
       "      <td>NaN</td>\n",
       "      <td>NaN</td>\n",
       "      <td>NaN</td>\n",
       "    </tr>\n",
       "    <tr>\n",
       "      <th>634</th>\n",
       "      <td>MAC_RLE_Chile_2015_124</td>\n",
       "      <td>124. Eastern temperate Mediterranean steppe of...</td>\n",
       "      <td>CHL_MAC_RLE_Chile_2015_124</td>\n",
       "      <td>NaN</td>\n",
       "      <td>NaN</td>\n",
       "      <td>NaN</td>\n",
       "      <td>NaN</td>\n",
       "      <td>NaN</td>\n",
       "    </tr>\n",
       "    <tr>\n",
       "      <th>635</th>\n",
       "      <td>MAC_RLE_Chile_2015_125</td>\n",
       "      <td>125. Temperate eastern steppe of Festuca graci...</td>\n",
       "      <td>CHL_MAC_RLE_Chile_2015_125</td>\n",
       "      <td>NaN</td>\n",
       "      <td>NaN</td>\n",
       "      <td>NaN</td>\n",
       "      <td>NaN</td>\n",
       "      <td>NaN</td>\n",
       "    </tr>\n",
       "    <tr>\n",
       "      <th>636</th>\n",
       "      <td>MAC_RLE_Chile_2015_126</td>\n",
       "      <td>126. Temperate eastern steppe of Festuca graci...</td>\n",
       "      <td>CHL_MAC_RLE_Chile_2015_126</td>\n",
       "      <td>NaN</td>\n",
       "      <td>NaN</td>\n",
       "      <td>NaN</td>\n",
       "      <td>NaN</td>\n",
       "      <td>NaN</td>\n",
       "    </tr>\n",
       "    <tr>\n",
       "      <th>637</th>\n",
       "      <td>MAC_RLE_Chile_2015_127</td>\n",
       "      <td>127. Eastern temperate steppe of Festuca graci...</td>\n",
       "      <td>CHL_MAC_RLE_Chile_2015_127</td>\n",
       "      <td>NaN</td>\n",
       "      <td>NaN</td>\n",
       "      <td>NaN</td>\n",
       "      <td>NaN</td>\n",
       "      <td>NaN</td>\n",
       "    </tr>\n",
       "  </tbody>\n",
       "</table>\n",
       "</div>"
      ],
      "text/plain": [
       "                         id  \\\n",
       "633  MAC_RLE_Chile_2015_123   \n",
       "634  MAC_RLE_Chile_2015_124   \n",
       "635  MAC_RLE_Chile_2015_125   \n",
       "636  MAC_RLE_Chile_2015_126   \n",
       "637  MAC_RLE_Chile_2015_127   \n",
       "\n",
       "                                                  name  \\\n",
       "633  123. Temperate Mediterranean steppe of Festuca...   \n",
       "634  124. Eastern temperate Mediterranean steppe of...   \n",
       "635  125. Temperate eastern steppe of Festuca graci...   \n",
       "636  126. Temperate eastern steppe of Festuca graci...   \n",
       "637  127. Eastern temperate steppe of Festuca graci...   \n",
       "\n",
       "                          AT-id version assigned-by level1 level2 level3  \n",
       "633  CHL_MAC_RLE_Chile_2015_123     NaN         NaN    NaN    NaN    NaN  \n",
       "634  CHL_MAC_RLE_Chile_2015_124     NaN         NaN    NaN    NaN    NaN  \n",
       "635  CHL_MAC_RLE_Chile_2015_125     NaN         NaN    NaN    NaN    NaN  \n",
       "636  CHL_MAC_RLE_Chile_2015_126     NaN         NaN    NaN    NaN    NaN  \n",
       "637  CHL_MAC_RLE_Chile_2015_127     NaN         NaN    NaN    NaN    NaN  "
      ]
     },
     "execution_count": 12,
     "metadata": {},
     "output_type": "execute_result"
    }
   ],
   "source": [
    "df_from_xml=pd.DataFrame(records)\n",
    "df_from_xml.tail()"
   ]
  },
  {
   "cell_type": "code",
   "execution_count": 13,
   "id": "9f3f9703-1558-49b5-a068-be094d5cdad9",
   "metadata": {},
   "outputs": [
    {
     "data": {
      "text/plain": [
       "array(['draft', 'Draft', nan], dtype=object)"
      ]
     },
     "execution_count": 13,
     "metadata": {},
     "output_type": "execute_result"
    }
   ],
   "source": [
    "df_from_xml['assigned-by'].unique()\n",
    "df_from_xml['version'].unique()"
   ]
  },
  {
   "cell_type": "code",
   "execution_count": 16,
   "id": "21e17941-725b-4e51-ad4e-8aa599a5f787",
   "metadata": {},
   "outputs": [],
   "source": [
    "list1=df_from_sql['eco_id'].unique()\n",
    "list2=df_from_xml['id'].unique()"
   ]
  },
  {
   "cell_type": "code",
   "execution_count": 19,
   "id": "cbbd0964-e727-496d-b3d0-96ee4dd6311c",
   "metadata": {},
   "outputs": [
    {
     "name": "stdout",
     "output_type": "stream",
     "text": [
      "Etter_RLE_Colombia_2015_44\n",
      "Etter_RLE_Colombia_2015_72\n"
     ]
    }
   ],
   "source": [
    "for j in list1:\n",
    "    if j in list2:\n",
    "        print(j)"
   ]
  },
  {
   "cell_type": "code",
   "execution_count": 34,
   "id": "1db356e0-0387-4546-b193-92db4f61ecf3",
   "metadata": {},
   "outputs": [
    {
     "data": {
      "text/html": [
       "<div>\n",
       "<style scoped>\n",
       "    .dataframe tbody tr th:only-of-type {\n",
       "        vertical-align: middle;\n",
       "    }\n",
       "\n",
       "    .dataframe tbody tr th {\n",
       "        vertical-align: top;\n",
       "    }\n",
       "\n",
       "    .dataframe thead th {\n",
       "        text-align: right;\n",
       "    }\n",
       "</style>\n",
       "<table border=\"1\" class=\"dataframe\">\n",
       "  <thead>\n",
       "    <tr style=\"text-align: right;\">\n",
       "      <th></th>\n",
       "      <th>eco_id</th>\n",
       "      <th>eco_name</th>\n",
       "      <th>eco_name_orig</th>\n",
       "      <th>external_code</th>\n",
       "      <th>efg_code</th>\n",
       "      <th>level</th>\n",
       "      <th>membership</th>\n",
       "      <th>assigned_by</th>\n",
       "    </tr>\n",
       "  </thead>\n",
       "  <tbody>\n",
       "    <tr>\n",
       "      <th>290</th>\n",
       "      <td>Ghoraba_Egypt_MarineBar_2021:1</td>\n",
       "      <td>None</td>\n",
       "      <td>Sand plain ecosystem</td>\n",
       "      <td>None</td>\n",
       "      <td>MT2.1</td>\n",
       "      <td>6.0</td>\n",
       "      <td>1.00</td>\n",
       "      <td>JRFEP</td>\n",
       "    </tr>\n",
       "  </tbody>\n",
       "</table>\n",
       "</div>"
      ],
      "text/plain": [
       "                             eco_id eco_name         eco_name_orig  \\\n",
       "290  Ghoraba_Egypt_MarineBar_2021:1     None  Sand plain ecosystem   \n",
       "\n",
       "    external_code efg_code  level membership assigned_by  \n",
       "290          None    MT2.1    6.0       1.00       JRFEP  "
      ]
     },
     "execution_count": 34,
     "metadata": {},
     "output_type": "execute_result"
    }
   ],
   "source": [
    "df_from_sql[df_from_sql['eco_id']=='Ghoraba_Egypt_MarineBar_2021:1']"
   ]
  },
  {
   "cell_type": "code",
   "execution_count": 35,
   "id": "fb179735-a111-4ec0-97c1-1662026d1b3e",
   "metadata": {},
   "outputs": [
    {
     "data": {
      "text/html": [
       "<div>\n",
       "<style scoped>\n",
       "    .dataframe tbody tr th:only-of-type {\n",
       "        vertical-align: middle;\n",
       "    }\n",
       "\n",
       "    .dataframe tbody tr th {\n",
       "        vertical-align: top;\n",
       "    }\n",
       "\n",
       "    .dataframe thead th {\n",
       "        text-align: right;\n",
       "    }\n",
       "</style>\n",
       "<table border=\"1\" class=\"dataframe\">\n",
       "  <thead>\n",
       "    <tr style=\"text-align: right;\">\n",
       "      <th></th>\n",
       "      <th>id</th>\n",
       "      <th>name</th>\n",
       "      <th>AT-id</th>\n",
       "      <th>version</th>\n",
       "      <th>assigned-by</th>\n",
       "      <th>level1</th>\n",
       "      <th>level2</th>\n",
       "      <th>level3</th>\n",
       "    </tr>\n",
       "  </thead>\n",
       "  <tbody>\n",
       "  </tbody>\n",
       "</table>\n",
       "</div>"
      ],
      "text/plain": [
       "Empty DataFrame\n",
       "Columns: [id, name, AT-id, version, assigned-by, level1, level2, level3]\n",
       "Index: []"
      ]
     },
     "execution_count": 35,
     "metadata": {},
     "output_type": "execute_result"
    }
   ],
   "source": [
    "df_from_xml[df_from_xml['id']=='Ghoraba_Egypt_MarineBar_2021_1']"
   ]
  },
  {
   "cell_type": "code",
   "execution_count": 33,
   "id": "df40357e-cf83-49d6-9535-78fb35550ccf",
   "metadata": {},
   "outputs": [
    {
     "data": {
      "text/html": [
       "<div>\n",
       "<style scoped>\n",
       "    .dataframe tbody tr th:only-of-type {\n",
       "        vertical-align: middle;\n",
       "    }\n",
       "\n",
       "    .dataframe tbody tr th {\n",
       "        vertical-align: top;\n",
       "    }\n",
       "\n",
       "    .dataframe thead th {\n",
       "        text-align: right;\n",
       "    }\n",
       "</style>\n",
       "<table border=\"1\" class=\"dataframe\">\n",
       "  <thead>\n",
       "    <tr style=\"text-align: right;\">\n",
       "      <th></th>\n",
       "      <th>eco_id</th>\n",
       "      <th>eco_name</th>\n",
       "      <th>eco_name_orig</th>\n",
       "      <th>external_code</th>\n",
       "      <th>efg_code</th>\n",
       "      <th>level</th>\n",
       "      <th>membership</th>\n",
       "      <th>assigned_by</th>\n",
       "    </tr>\n",
       "  </thead>\n",
       "  <tbody>\n",
       "    <tr>\n",
       "      <th>288</th>\n",
       "      <td>IUCN_FR_Mangroves_Mayotte_2017:2</td>\n",
       "      <td>None</td>\n",
       "      <td>Mangroves mésohalines et mangroves estuariennes</td>\n",
       "      <td>None</td>\n",
       "      <td>MFT1.2</td>\n",
       "      <td>6.0</td>\n",
       "      <td>1.00</td>\n",
       "      <td>JRFEP</td>\n",
       "    </tr>\n",
       "    <tr>\n",
       "      <th>289</th>\n",
       "      <td>IUCN_FR_Mangroves_Mayotte_2017:3</td>\n",
       "      <td>None</td>\n",
       "      <td>Tannes, prés-salés, mangroves et forêts supral...</td>\n",
       "      <td>None</td>\n",
       "      <td>MFT1.2</td>\n",
       "      <td>6.0</td>\n",
       "      <td>1.00</td>\n",
       "      <td>JRFEP</td>\n",
       "    </tr>\n",
       "    <tr>\n",
       "      <th>290</th>\n",
       "      <td>Ghoraba_Egypt_MarineBar_2021:1</td>\n",
       "      <td>None</td>\n",
       "      <td>Sand plain ecosystem</td>\n",
       "      <td>None</td>\n",
       "      <td>MT2.1</td>\n",
       "      <td>6.0</td>\n",
       "      <td>1.00</td>\n",
       "      <td>JRFEP</td>\n",
       "    </tr>\n",
       "    <tr>\n",
       "      <th>291</th>\n",
       "      <td>Ghoraba_Egypt_MarineBar_2021:2</td>\n",
       "      <td>None</td>\n",
       "      <td>Salt marshes</td>\n",
       "      <td>None</td>\n",
       "      <td>MFT1.3</td>\n",
       "      <td>6.0</td>\n",
       "      <td>1.00</td>\n",
       "      <td>JRFEP</td>\n",
       "    </tr>\n",
       "    <tr>\n",
       "      <th>292</th>\n",
       "      <td>Uribe_Marine_Colombia_2020:1</td>\n",
       "      <td>None</td>\n",
       "      <td>Manglares Caribe oceánico</td>\n",
       "      <td>None</td>\n",
       "      <td>MFT1.2</td>\n",
       "      <td>6.0</td>\n",
       "      <td>1.00</td>\n",
       "      <td>JRFEP</td>\n",
       "    </tr>\n",
       "    <tr>\n",
       "      <th>293</th>\n",
       "      <td>Uribe_Marine_Colombia_2020:5</td>\n",
       "      <td>None</td>\n",
       "      <td>Manglares Pacífico continental norte</td>\n",
       "      <td>None</td>\n",
       "      <td>MFT1.2</td>\n",
       "      <td>6.0</td>\n",
       "      <td>1.00</td>\n",
       "      <td>JRFEP</td>\n",
       "    </tr>\n",
       "    <tr>\n",
       "      <th>294</th>\n",
       "      <td>Uribe_Marine_Colombia_2020:9</td>\n",
       "      <td>None</td>\n",
       "      <td>Manglares Pacífico continental sur</td>\n",
       "      <td>None</td>\n",
       "      <td>MFT1.2</td>\n",
       "      <td>6.0</td>\n",
       "      <td>1.00</td>\n",
       "      <td>JRFEP</td>\n",
       "    </tr>\n",
       "    <tr>\n",
       "      <th>295</th>\n",
       "      <td>Uribe_Marine_Colombia_2020:10</td>\n",
       "      <td>None</td>\n",
       "      <td>Manglares Caribe continental</td>\n",
       "      <td>None</td>\n",
       "      <td>MFT1.2</td>\n",
       "      <td>6.0</td>\n",
       "      <td>1.00</td>\n",
       "      <td>JRFEP</td>\n",
       "    </tr>\n",
       "    <tr>\n",
       "      <th>296</th>\n",
       "      <td>CaseStudies_RLE_Venezuela_2010:1</td>\n",
       "      <td>None</td>\n",
       "      <td>Laguna de Tacarigua</td>\n",
       "      <td>None</td>\n",
       "      <td>MFT1.2</td>\n",
       "      <td>6.0</td>\n",
       "      <td>1.00</td>\n",
       "      <td>JRFEP</td>\n",
       "    </tr>\n",
       "    <tr>\n",
       "      <th>297</th>\n",
       "      <td>CaseStudies_RLE_Venezuela_2010:2</td>\n",
       "      <td>None</td>\n",
       "      <td>Ciénaga de Los Olivitos</td>\n",
       "      <td>None</td>\n",
       "      <td>MFT1.2</td>\n",
       "      <td>6.0</td>\n",
       "      <td>1.00</td>\n",
       "      <td>JRFEP</td>\n",
       "    </tr>\n",
       "    <tr>\n",
       "      <th>298</th>\n",
       "      <td>CaseStudies_RLE_Venezuela_2010:3</td>\n",
       "      <td>None</td>\n",
       "      <td>Laguna de Cocinetas</td>\n",
       "      <td>None</td>\n",
       "      <td>MFT1.2</td>\n",
       "      <td>6.0</td>\n",
       "      <td>1.00</td>\n",
       "      <td>JRFEP</td>\n",
       "    </tr>\n",
       "    <tr>\n",
       "      <th>301</th>\n",
       "      <td>Uribe_Marine_Colombia_2020:4</td>\n",
       "      <td>None</td>\n",
       "      <td>Praderas de pastos marinos Caribe oceánico</td>\n",
       "      <td>None</td>\n",
       "      <td>M1.1</td>\n",
       "      <td>6.0</td>\n",
       "      <td>1.00</td>\n",
       "      <td>JRFP</td>\n",
       "    </tr>\n",
       "    <tr>\n",
       "      <th>302</th>\n",
       "      <td>Uribe_Marine_Colombia_2020:13</td>\n",
       "      <td>None</td>\n",
       "      <td>Praderas de pastos marinos Caribe continental</td>\n",
       "      <td>None</td>\n",
       "      <td>M1.1</td>\n",
       "      <td>6.0</td>\n",
       "      <td>1.00</td>\n",
       "      <td>JRFP</td>\n",
       "    </tr>\n",
       "    <tr>\n",
       "      <th>303</th>\n",
       "      <td>Uribe_Marine_Colombia_2020:8</td>\n",
       "      <td>None</td>\n",
       "      <td>Ecosistemas coralinos Caribe oceánico</td>\n",
       "      <td>None</td>\n",
       "      <td>M1.3</td>\n",
       "      <td>6.0</td>\n",
       "      <td>1.00</td>\n",
       "      <td>JRFP</td>\n",
       "    </tr>\n",
       "    <tr>\n",
       "      <th>304</th>\n",
       "      <td>Uribe_Marine_Colombia_2020:7</td>\n",
       "      <td>None</td>\n",
       "      <td>Ecosistemas coralinos Caribe continental</td>\n",
       "      <td>None</td>\n",
       "      <td>M1.3</td>\n",
       "      <td>6.0</td>\n",
       "      <td>1.00</td>\n",
       "      <td>JRFP</td>\n",
       "    </tr>\n",
       "    <tr>\n",
       "      <th>305</th>\n",
       "      <td>Uribe_Marine_Colombia_2020:3</td>\n",
       "      <td>None</td>\n",
       "      <td>Ecosistemas coralinos Pacífico continental</td>\n",
       "      <td>None</td>\n",
       "      <td>M1.3</td>\n",
       "      <td>6.0</td>\n",
       "      <td>1.00</td>\n",
       "      <td>JRFP</td>\n",
       "    </tr>\n",
       "    <tr>\n",
       "      <th>306</th>\n",
       "      <td>Uribe_Marine_Colombia_2020:6</td>\n",
       "      <td>None</td>\n",
       "      <td>Litorales rocosos cohesivos Caribe continental</td>\n",
       "      <td>None</td>\n",
       "      <td>MT1.1</td>\n",
       "      <td>6.0</td>\n",
       "      <td>1.00</td>\n",
       "      <td>JRFP</td>\n",
       "    </tr>\n",
       "    <tr>\n",
       "      <th>307</th>\n",
       "      <td>Uribe_Marine_Colombia_2020:11</td>\n",
       "      <td>None</td>\n",
       "      <td>Litorales rocosos cohesivos Pacífico continental</td>\n",
       "      <td>None</td>\n",
       "      <td>MT1.1</td>\n",
       "      <td>6.0</td>\n",
       "      <td>1.00</td>\n",
       "      <td>JRFP</td>\n",
       "    </tr>\n",
       "    <tr>\n",
       "      <th>308</th>\n",
       "      <td>Uribe_Marine_Colombia_2020:2</td>\n",
       "      <td>None</td>\n",
       "      <td>Playas de arena Caribe oceánico</td>\n",
       "      <td>None</td>\n",
       "      <td>MT1.3</td>\n",
       "      <td>6.0</td>\n",
       "      <td>1.00</td>\n",
       "      <td>JRFP</td>\n",
       "    </tr>\n",
       "    <tr>\n",
       "      <th>309</th>\n",
       "      <td>Uribe_Marine_Colombia_2020:14</td>\n",
       "      <td>None</td>\n",
       "      <td>Playas de arena Caribe continental</td>\n",
       "      <td>None</td>\n",
       "      <td>MT1.3</td>\n",
       "      <td>6.0</td>\n",
       "      <td>1.00</td>\n",
       "      <td>JRFP</td>\n",
       "    </tr>\n",
       "    <tr>\n",
       "      <th>310</th>\n",
       "      <td>Uribe_Marine_Colombia_2020:12</td>\n",
       "      <td>None</td>\n",
       "      <td>Playas de arena Pacífico continental</td>\n",
       "      <td>None</td>\n",
       "      <td>MT1.3</td>\n",
       "      <td>6.0</td>\n",
       "      <td>1.00</td>\n",
       "      <td>JRFP</td>\n",
       "    </tr>\n",
       "  </tbody>\n",
       "</table>\n",
       "</div>"
      ],
      "text/plain": [
       "                               eco_id eco_name  \\\n",
       "288  IUCN_FR_Mangroves_Mayotte_2017:2     None   \n",
       "289  IUCN_FR_Mangroves_Mayotte_2017:3     None   \n",
       "290    Ghoraba_Egypt_MarineBar_2021:1     None   \n",
       "291    Ghoraba_Egypt_MarineBar_2021:2     None   \n",
       "292      Uribe_Marine_Colombia_2020:1     None   \n",
       "293      Uribe_Marine_Colombia_2020:5     None   \n",
       "294      Uribe_Marine_Colombia_2020:9     None   \n",
       "295     Uribe_Marine_Colombia_2020:10     None   \n",
       "296  CaseStudies_RLE_Venezuela_2010:1     None   \n",
       "297  CaseStudies_RLE_Venezuela_2010:2     None   \n",
       "298  CaseStudies_RLE_Venezuela_2010:3     None   \n",
       "301      Uribe_Marine_Colombia_2020:4     None   \n",
       "302     Uribe_Marine_Colombia_2020:13     None   \n",
       "303      Uribe_Marine_Colombia_2020:8     None   \n",
       "304      Uribe_Marine_Colombia_2020:7     None   \n",
       "305      Uribe_Marine_Colombia_2020:3     None   \n",
       "306      Uribe_Marine_Colombia_2020:6     None   \n",
       "307     Uribe_Marine_Colombia_2020:11     None   \n",
       "308      Uribe_Marine_Colombia_2020:2     None   \n",
       "309     Uribe_Marine_Colombia_2020:14     None   \n",
       "310     Uribe_Marine_Colombia_2020:12     None   \n",
       "\n",
       "                                         eco_name_orig external_code efg_code  \\\n",
       "288    Mangroves mésohalines et mangroves estuariennes          None   MFT1.2   \n",
       "289  Tannes, prés-salés, mangroves et forêts supral...          None   MFT1.2   \n",
       "290                               Sand plain ecosystem          None    MT2.1   \n",
       "291                                       Salt marshes          None   MFT1.3   \n",
       "292                          Manglares Caribe oceánico          None   MFT1.2   \n",
       "293               Manglares Pacífico continental norte          None   MFT1.2   \n",
       "294                 Manglares Pacífico continental sur          None   MFT1.2   \n",
       "295                       Manglares Caribe continental          None   MFT1.2   \n",
       "296                                Laguna de Tacarigua          None   MFT1.2   \n",
       "297                            Ciénaga de Los Olivitos          None   MFT1.2   \n",
       "298                                Laguna de Cocinetas          None   MFT1.2   \n",
       "301         Praderas de pastos marinos Caribe oceánico          None     M1.1   \n",
       "302      Praderas de pastos marinos Caribe continental          None     M1.1   \n",
       "303              Ecosistemas coralinos Caribe oceánico          None     M1.3   \n",
       "304           Ecosistemas coralinos Caribe continental          None     M1.3   \n",
       "305         Ecosistemas coralinos Pacífico continental          None     M1.3   \n",
       "306     Litorales rocosos cohesivos Caribe continental          None    MT1.1   \n",
       "307   Litorales rocosos cohesivos Pacífico continental          None    MT1.1   \n",
       "308                    Playas de arena Caribe oceánico          None    MT1.3   \n",
       "309                 Playas de arena Caribe continental          None    MT1.3   \n",
       "310               Playas de arena Pacífico continental          None    MT1.3   \n",
       "\n",
       "     level membership assigned_by  \n",
       "288    6.0       1.00       JRFEP  \n",
       "289    6.0       1.00       JRFEP  \n",
       "290    6.0       1.00       JRFEP  \n",
       "291    6.0       1.00       JRFEP  \n",
       "292    6.0       1.00       JRFEP  \n",
       "293    6.0       1.00       JRFEP  \n",
       "294    6.0       1.00       JRFEP  \n",
       "295    6.0       1.00       JRFEP  \n",
       "296    6.0       1.00       JRFEP  \n",
       "297    6.0       1.00       JRFEP  \n",
       "298    6.0       1.00       JRFEP  \n",
       "301    6.0       1.00        JRFP  \n",
       "302    6.0       1.00        JRFP  \n",
       "303    6.0       1.00        JRFP  \n",
       "304    6.0       1.00        JRFP  \n",
       "305    6.0       1.00        JRFP  \n",
       "306    6.0       1.00        JRFP  \n",
       "307    6.0       1.00        JRFP  \n",
       "308    6.0       1.00        JRFP  \n",
       "309    6.0       1.00        JRFP  \n",
       "310    6.0       1.00        JRFP  "
      ]
     },
     "execution_count": 33,
     "metadata": {},
     "output_type": "execute_result"
    }
   ],
   "source": [
    "df_from_sql[df_from_sql['eco_id']!=df_from_sql['external_code']]"
   ]
  },
  {
   "cell_type": "code",
   "execution_count": null,
   "id": "8d0a8bfb-d939-4dc6-b7a8-4cbe6200a7c5",
   "metadata": {},
   "outputs": [],
   "source": []
  }
 ],
 "metadata": {
  "kernelspec": {
   "display_name": "Python 3 (ipykernel)",
   "language": "python",
   "name": "python3"
  },
  "language_info": {
   "codemirror_mode": {
    "name": "ipython",
    "version": 3
   },
   "file_extension": ".py",
   "mimetype": "text/x-python",
   "name": "python",
   "nbconvert_exporter": "python",
   "pygments_lexer": "ipython3",
   "version": "3.10.2"
  }
 },
 "nbformat": 4,
 "nbformat_minor": 5
}
